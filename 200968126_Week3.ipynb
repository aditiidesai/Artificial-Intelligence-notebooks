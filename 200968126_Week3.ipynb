{
  "nbformat": 4,
  "nbformat_minor": 0,
  "metadata": {
    "colab": {
      "provenance": []
    },
    "kernelspec": {
      "name": "python3",
      "display_name": "Python 3"
    },
    "language_info": {
      "name": "python"
    }
  },
  "cells": [
    {
      "cell_type": "markdown",
      "source": [
        "#AL Week 3 exercise\n",
        "\n",
        "\n",
        "---\n",
        "\n",
        "*Aditi Desai*\n",
        "\n",
        "*200968126*"
      ],
      "metadata": {
        "id": "BclU1F_U1-A-"
      }
    },
    {
      "cell_type": "markdown",
      "source": [
        "The main function in this program first loads data into memory (the directory from which  the  data  is  loaded  can  be  specified  by  a  command-line  argument).  Then,  the function  prompts the user  to type  in  two  names.  The  person_id_for_name  function retrieves the id for any person (and handles prompting the user to clarify, in the event that multiple people have the same name). The function then calls the shortest_path function  to  compute  the  shortest  path  between  the  two  people,  and  prints  out  the path."
      ],
      "metadata": {
        "id": "VUL2MPSD6k-y"
      }
    },
    {
      "cell_type": "markdown",
      "source": [
        "The shortest_path function has to be coded using \n",
        "\n",
        "a.Breadth First Search\n",
        "\n",
        "b.Depth First Search"
      ],
      "metadata": {
        "id": "pXGduGOs6pnq"
      }
    },
    {
      "cell_type": "code",
      "execution_count": 1,
      "metadata": {
        "id": "avMToUFL1w0x"
      },
      "outputs": [],
      "source": [
        "#Import libraries\n",
        "import pandas as pd\n",
        "import numpy as np\n",
        "import matplotlib.pyplot as plt\n",
        "import seaborn as sns\n",
        "import sys \n",
        "import csv\n",
        "import time\n",
        "\n",
        "%matplotlib inline"
      ]
    },
    {
      "cell_type": "code",
      "source": [
        "df_movies=pd.read_csv('movies.csv')\n",
        "df_people=pd.read_csv('people.csv')\n",
        "df_stars=pd.read_csv('stars.csv')"
      ],
      "metadata": {
        "id": "2hdeOcBH2_Eq"
      },
      "execution_count": 2,
      "outputs": []
    },
    {
      "cell_type": "code",
      "source": [
        "df_movies.head()"
      ],
      "metadata": {
        "colab": {
          "base_uri": "https://localhost:8080/",
          "height": 206
        },
        "id": "XTYlpXqM3Dva",
        "outputId": "31819a4b-1314-4d37-b605-b07a2376db52"
      },
      "execution_count": 3,
      "outputs": [
        {
          "output_type": "execute_result",
          "data": {
            "text/plain": [
              "       id               title  year\n",
              "0  112384           Apollo 13  1995\n",
              "1  104257      A Few Good Men  1992\n",
              "2  109830        Forrest Gump  1994\n",
              "3   93779  The Princess Bride  1987\n",
              "4   95953            Rain Man  1988"
            ],
            "text/html": [
              "\n",
              "  <div id=\"df-d61cf272-9611-4f52-958b-6c3aa72dba13\">\n",
              "    <div class=\"colab-df-container\">\n",
              "      <div>\n",
              "<style scoped>\n",
              "    .dataframe tbody tr th:only-of-type {\n",
              "        vertical-align: middle;\n",
              "    }\n",
              "\n",
              "    .dataframe tbody tr th {\n",
              "        vertical-align: top;\n",
              "    }\n",
              "\n",
              "    .dataframe thead th {\n",
              "        text-align: right;\n",
              "    }\n",
              "</style>\n",
              "<table border=\"1\" class=\"dataframe\">\n",
              "  <thead>\n",
              "    <tr style=\"text-align: right;\">\n",
              "      <th></th>\n",
              "      <th>id</th>\n",
              "      <th>title</th>\n",
              "      <th>year</th>\n",
              "    </tr>\n",
              "  </thead>\n",
              "  <tbody>\n",
              "    <tr>\n",
              "      <th>0</th>\n",
              "      <td>112384</td>\n",
              "      <td>Apollo 13</td>\n",
              "      <td>1995</td>\n",
              "    </tr>\n",
              "    <tr>\n",
              "      <th>1</th>\n",
              "      <td>104257</td>\n",
              "      <td>A Few Good Men</td>\n",
              "      <td>1992</td>\n",
              "    </tr>\n",
              "    <tr>\n",
              "      <th>2</th>\n",
              "      <td>109830</td>\n",
              "      <td>Forrest Gump</td>\n",
              "      <td>1994</td>\n",
              "    </tr>\n",
              "    <tr>\n",
              "      <th>3</th>\n",
              "      <td>93779</td>\n",
              "      <td>The Princess Bride</td>\n",
              "      <td>1987</td>\n",
              "    </tr>\n",
              "    <tr>\n",
              "      <th>4</th>\n",
              "      <td>95953</td>\n",
              "      <td>Rain Man</td>\n",
              "      <td>1988</td>\n",
              "    </tr>\n",
              "  </tbody>\n",
              "</table>\n",
              "</div>\n",
              "      <button class=\"colab-df-convert\" onclick=\"convertToInteractive('df-d61cf272-9611-4f52-958b-6c3aa72dba13')\"\n",
              "              title=\"Convert this dataframe to an interactive table.\"\n",
              "              style=\"display:none;\">\n",
              "        \n",
              "  <svg xmlns=\"http://www.w3.org/2000/svg\" height=\"24px\"viewBox=\"0 0 24 24\"\n",
              "       width=\"24px\">\n",
              "    <path d=\"M0 0h24v24H0V0z\" fill=\"none\"/>\n",
              "    <path d=\"M18.56 5.44l.94 2.06.94-2.06 2.06-.94-2.06-.94-.94-2.06-.94 2.06-2.06.94zm-11 1L8.5 8.5l.94-2.06 2.06-.94-2.06-.94L8.5 2.5l-.94 2.06-2.06.94zm10 10l.94 2.06.94-2.06 2.06-.94-2.06-.94-.94-2.06-.94 2.06-2.06.94z\"/><path d=\"M17.41 7.96l-1.37-1.37c-.4-.4-.92-.59-1.43-.59-.52 0-1.04.2-1.43.59L10.3 9.45l-7.72 7.72c-.78.78-.78 2.05 0 2.83L4 21.41c.39.39.9.59 1.41.59.51 0 1.02-.2 1.41-.59l7.78-7.78 2.81-2.81c.8-.78.8-2.07 0-2.86zM5.41 20L4 18.59l7.72-7.72 1.47 1.35L5.41 20z\"/>\n",
              "  </svg>\n",
              "      </button>\n",
              "      \n",
              "  <style>\n",
              "    .colab-df-container {\n",
              "      display:flex;\n",
              "      flex-wrap:wrap;\n",
              "      gap: 12px;\n",
              "    }\n",
              "\n",
              "    .colab-df-convert {\n",
              "      background-color: #E8F0FE;\n",
              "      border: none;\n",
              "      border-radius: 50%;\n",
              "      cursor: pointer;\n",
              "      display: none;\n",
              "      fill: #1967D2;\n",
              "      height: 32px;\n",
              "      padding: 0 0 0 0;\n",
              "      width: 32px;\n",
              "    }\n",
              "\n",
              "    .colab-df-convert:hover {\n",
              "      background-color: #E2EBFA;\n",
              "      box-shadow: 0px 1px 2px rgba(60, 64, 67, 0.3), 0px 1px 3px 1px rgba(60, 64, 67, 0.15);\n",
              "      fill: #174EA6;\n",
              "    }\n",
              "\n",
              "    [theme=dark] .colab-df-convert {\n",
              "      background-color: #3B4455;\n",
              "      fill: #D2E3FC;\n",
              "    }\n",
              "\n",
              "    [theme=dark] .colab-df-convert:hover {\n",
              "      background-color: #434B5C;\n",
              "      box-shadow: 0px 1px 3px 1px rgba(0, 0, 0, 0.15);\n",
              "      filter: drop-shadow(0px 1px 2px rgba(0, 0, 0, 0.3));\n",
              "      fill: #FFFFFF;\n",
              "    }\n",
              "  </style>\n",
              "\n",
              "      <script>\n",
              "        const buttonEl =\n",
              "          document.querySelector('#df-d61cf272-9611-4f52-958b-6c3aa72dba13 button.colab-df-convert');\n",
              "        buttonEl.style.display =\n",
              "          google.colab.kernel.accessAllowed ? 'block' : 'none';\n",
              "\n",
              "        async function convertToInteractive(key) {\n",
              "          const element = document.querySelector('#df-d61cf272-9611-4f52-958b-6c3aa72dba13');\n",
              "          const dataTable =\n",
              "            await google.colab.kernel.invokeFunction('convertToInteractive',\n",
              "                                                     [key], {});\n",
              "          if (!dataTable) return;\n",
              "\n",
              "          const docLinkHtml = 'Like what you see? Visit the ' +\n",
              "            '<a target=\"_blank\" href=https://colab.research.google.com/notebooks/data_table.ipynb>data table notebook</a>'\n",
              "            + ' to learn more about interactive tables.';\n",
              "          element.innerHTML = '';\n",
              "          dataTable['output_type'] = 'display_data';\n",
              "          await google.colab.output.renderOutput(dataTable, element);\n",
              "          const docLink = document.createElement('div');\n",
              "          docLink.innerHTML = docLinkHtml;\n",
              "          element.appendChild(docLink);\n",
              "        }\n",
              "      </script>\n",
              "    </div>\n",
              "  </div>\n",
              "  "
            ]
          },
          "metadata": {},
          "execution_count": 3
        }
      ]
    },
    {
      "cell_type": "code",
      "source": [
        "df_people.head"
      ],
      "metadata": {
        "colab": {
          "base_uri": "https://localhost:8080/"
        },
        "id": "Oag4BWmb3HL5",
        "outputId": "248df155-080d-4807-b5d9-8f1c5f28e245"
      },
      "execution_count": 4,
      "outputs": [
        {
          "output_type": "execute_result",
          "data": {
            "text/plain": [
              "<bound method NDFrame.head of         id             name  birth\n",
              "0      102      Kevin Bacon   1958\n",
              "1      129       Tom Cruise   1962\n",
              "2      144       Cary Elwes   1962\n",
              "3      158        Tom Hanks   1956\n",
              "4     1597   Mandy Patinkin   1952\n",
              "5      163   Dustin Hoffman   1937\n",
              "6     1697   Chris Sarandon   1942\n",
              "7      193       Demi Moore   1962\n",
              "8      197   Jack Nicholson   1937\n",
              "9      200      Bill Paxton   1955\n",
              "10     398      Sally Field   1946\n",
              "11     420   Valeria Golino   1965\n",
              "12  596520  Gerald R. Molen   1935\n",
              "13     641      Gary Sinise   1955\n",
              "14     705     Robin Wright   1966\n",
              "15  914612      Emma Watson   1990>"
            ]
          },
          "metadata": {},
          "execution_count": 4
        }
      ]
    },
    {
      "cell_type": "code",
      "source": [
        "df_stars.head()"
      ],
      "metadata": {
        "colab": {
          "base_uri": "https://localhost:8080/",
          "height": 206
        },
        "id": "VNoSB1673J3N",
        "outputId": "b2e892e3-9edf-4a14-d99c-320a24313298"
      },
      "execution_count": 5,
      "outputs": [
        {
          "output_type": "execute_result",
          "data": {
            "text/plain": [
              "   person_id  movie_id\n",
              "0        102    104257\n",
              "1        102    112384\n",
              "2        129    104257\n",
              "3        129     95953\n",
              "4        144     93779"
            ],
            "text/html": [
              "\n",
              "  <div id=\"df-4cefe85c-2773-4949-8f25-ace67c6a9705\">\n",
              "    <div class=\"colab-df-container\">\n",
              "      <div>\n",
              "<style scoped>\n",
              "    .dataframe tbody tr th:only-of-type {\n",
              "        vertical-align: middle;\n",
              "    }\n",
              "\n",
              "    .dataframe tbody tr th {\n",
              "        vertical-align: top;\n",
              "    }\n",
              "\n",
              "    .dataframe thead th {\n",
              "        text-align: right;\n",
              "    }\n",
              "</style>\n",
              "<table border=\"1\" class=\"dataframe\">\n",
              "  <thead>\n",
              "    <tr style=\"text-align: right;\">\n",
              "      <th></th>\n",
              "      <th>person_id</th>\n",
              "      <th>movie_id</th>\n",
              "    </tr>\n",
              "  </thead>\n",
              "  <tbody>\n",
              "    <tr>\n",
              "      <th>0</th>\n",
              "      <td>102</td>\n",
              "      <td>104257</td>\n",
              "    </tr>\n",
              "    <tr>\n",
              "      <th>1</th>\n",
              "      <td>102</td>\n",
              "      <td>112384</td>\n",
              "    </tr>\n",
              "    <tr>\n",
              "      <th>2</th>\n",
              "      <td>129</td>\n",
              "      <td>104257</td>\n",
              "    </tr>\n",
              "    <tr>\n",
              "      <th>3</th>\n",
              "      <td>129</td>\n",
              "      <td>95953</td>\n",
              "    </tr>\n",
              "    <tr>\n",
              "      <th>4</th>\n",
              "      <td>144</td>\n",
              "      <td>93779</td>\n",
              "    </tr>\n",
              "  </tbody>\n",
              "</table>\n",
              "</div>\n",
              "      <button class=\"colab-df-convert\" onclick=\"convertToInteractive('df-4cefe85c-2773-4949-8f25-ace67c6a9705')\"\n",
              "              title=\"Convert this dataframe to an interactive table.\"\n",
              "              style=\"display:none;\">\n",
              "        \n",
              "  <svg xmlns=\"http://www.w3.org/2000/svg\" height=\"24px\"viewBox=\"0 0 24 24\"\n",
              "       width=\"24px\">\n",
              "    <path d=\"M0 0h24v24H0V0z\" fill=\"none\"/>\n",
              "    <path d=\"M18.56 5.44l.94 2.06.94-2.06 2.06-.94-2.06-.94-.94-2.06-.94 2.06-2.06.94zm-11 1L8.5 8.5l.94-2.06 2.06-.94-2.06-.94L8.5 2.5l-.94 2.06-2.06.94zm10 10l.94 2.06.94-2.06 2.06-.94-2.06-.94-.94-2.06-.94 2.06-2.06.94z\"/><path d=\"M17.41 7.96l-1.37-1.37c-.4-.4-.92-.59-1.43-.59-.52 0-1.04.2-1.43.59L10.3 9.45l-7.72 7.72c-.78.78-.78 2.05 0 2.83L4 21.41c.39.39.9.59 1.41.59.51 0 1.02-.2 1.41-.59l7.78-7.78 2.81-2.81c.8-.78.8-2.07 0-2.86zM5.41 20L4 18.59l7.72-7.72 1.47 1.35L5.41 20z\"/>\n",
              "  </svg>\n",
              "      </button>\n",
              "      \n",
              "  <style>\n",
              "    .colab-df-container {\n",
              "      display:flex;\n",
              "      flex-wrap:wrap;\n",
              "      gap: 12px;\n",
              "    }\n",
              "\n",
              "    .colab-df-convert {\n",
              "      background-color: #E8F0FE;\n",
              "      border: none;\n",
              "      border-radius: 50%;\n",
              "      cursor: pointer;\n",
              "      display: none;\n",
              "      fill: #1967D2;\n",
              "      height: 32px;\n",
              "      padding: 0 0 0 0;\n",
              "      width: 32px;\n",
              "    }\n",
              "\n",
              "    .colab-df-convert:hover {\n",
              "      background-color: #E2EBFA;\n",
              "      box-shadow: 0px 1px 2px rgba(60, 64, 67, 0.3), 0px 1px 3px 1px rgba(60, 64, 67, 0.15);\n",
              "      fill: #174EA6;\n",
              "    }\n",
              "\n",
              "    [theme=dark] .colab-df-convert {\n",
              "      background-color: #3B4455;\n",
              "      fill: #D2E3FC;\n",
              "    }\n",
              "\n",
              "    [theme=dark] .colab-df-convert:hover {\n",
              "      background-color: #434B5C;\n",
              "      box-shadow: 0px 1px 3px 1px rgba(0, 0, 0, 0.15);\n",
              "      filter: drop-shadow(0px 1px 2px rgba(0, 0, 0, 0.3));\n",
              "      fill: #FFFFFF;\n",
              "    }\n",
              "  </style>\n",
              "\n",
              "      <script>\n",
              "        const buttonEl =\n",
              "          document.querySelector('#df-4cefe85c-2773-4949-8f25-ace67c6a9705 button.colab-df-convert');\n",
              "        buttonEl.style.display =\n",
              "          google.colab.kernel.accessAllowed ? 'block' : 'none';\n",
              "\n",
              "        async function convertToInteractive(key) {\n",
              "          const element = document.querySelector('#df-4cefe85c-2773-4949-8f25-ace67c6a9705');\n",
              "          const dataTable =\n",
              "            await google.colab.kernel.invokeFunction('convertToInteractive',\n",
              "                                                     [key], {});\n",
              "          if (!dataTable) return;\n",
              "\n",
              "          const docLinkHtml = 'Like what you see? Visit the ' +\n",
              "            '<a target=\"_blank\" href=https://colab.research.google.com/notebooks/data_table.ipynb>data table notebook</a>'\n",
              "            + ' to learn more about interactive tables.';\n",
              "          element.innerHTML = '';\n",
              "          dataTable['output_type'] = 'display_data';\n",
              "          await google.colab.output.renderOutput(dataTable, element);\n",
              "          const docLink = document.createElement('div');\n",
              "          docLink.innerHTML = docLinkHtml;\n",
              "          element.appendChild(docLink);\n",
              "        }\n",
              "      </script>\n",
              "    </div>\n",
              "  </div>\n",
              "  "
            ]
          },
          "metadata": {},
          "execution_count": 5
        }
      ]
    },
    {
      "cell_type": "code",
      "source": [
        "#Mapping\n",
        "names = {}\n",
        "people = {}\n",
        "movies = {}"
      ],
      "metadata": {
        "id": "3jl4rEAm2stt"
      },
      "execution_count": 6,
      "outputs": []
    },
    {
      "cell_type": "code",
      "source": [
        "#Load data\n",
        "def load_data():\n",
        "    # Load people\n",
        "    with open(f\"/content/people.csv\", encoding=\"utf-8\") as f:\n",
        "        reader = csv.DictReader(f)\n",
        "        for row in reader:\n",
        "            people[row[\"id\"]] = {\n",
        "                \"name\": row[\"name\"],\n",
        "                \"birth\": row[\"birth\"],\n",
        "                \"movies\": set()\n",
        "            }\n",
        "            if row[\"name\"].lower() not in names:\n",
        "                names[row[\"name\"].lower()] = {row[\"id\"]}\n",
        "            else:\n",
        "                names[row[\"name\"].lower()].add(row[\"id\"])\n",
        "\n",
        "    #Load movies\n",
        "    with open(f\"/content/movies.csv\", encoding=\"utf-8\") as f:\n",
        "        reader = csv.DictReader(f)\n",
        "        for row in reader:\n",
        "            movies[row[\"id\"]] = {\n",
        "                \"title\": row[\"title\"],\n",
        "                \"year\": row[\"year\"],\n",
        "                \"stars\": set()\n",
        "            }\n",
        "\n",
        "    #Load stars\n",
        "    with open(f\"/content/stars.csv\", encoding=\"utf-8\") as f:\n",
        "        reader = csv.DictReader(f)\n",
        "        for row in reader:\n",
        "            try:\n",
        "                people[row[\"person_id\"]][\"movies\"].add(row[\"movie_id\"])\n",
        "                movies[row[\"movie_id\"]][\"stars\"].add(row[\"person_id\"])\n",
        "            except KeyError:\n",
        "                pass"
      ],
      "metadata": {
        "id": "kY2LZAB43DKh"
      },
      "execution_count": 7,
      "outputs": []
    },
    {
      "cell_type": "code",
      "source": [
        "#Map person id and name\n",
        "def person_id_for_name(name):\n",
        "    person_ids = list(names.get(name.lower(), set()))\n",
        "    if len(person_ids) == 0:\n",
        "        return None\n",
        "    elif len(person_ids) > 1:\n",
        "        print(f\"Which '{name}'?\")\n",
        "        for person_id in person_ids:\n",
        "            person = people[person_id]\n",
        "            name = person[\"name\"]\n",
        "            birth = person[\"birth\"]\n",
        "            print(f\"ID: {person_id}, Name: {name}, Birth: {birth}\")\n",
        "        try:\n",
        "            person_id = input(\"Intended Person ID: \")\n",
        "            if person_id in person_ids:\n",
        "                return person_id\n",
        "        except ValueError:\n",
        "            pass\n",
        "        return None\n",
        "    else:\n",
        "        return person_ids[0]"
      ],
      "metadata": {
        "id": "10yuf9Uc3nd2"
      },
      "execution_count": 8,
      "outputs": []
    },
    {
      "cell_type": "code",
      "source": [
        "!pip install utils"
      ],
      "metadata": {
        "colab": {
          "base_uri": "https://localhost:8080/"
        },
        "id": "OG-bOJav6Y8f",
        "outputId": "e68d2f0a-6343-41a3-d998-1be6ffcd8a12"
      },
      "execution_count": 27,
      "outputs": [
        {
          "output_type": "stream",
          "name": "stdout",
          "text": [
            "Looking in indexes: https://pypi.org/simple, https://us-python.pkg.dev/colab-wheels/public/simple/\n",
            "Collecting utils\n",
            "  Downloading utils-1.0.1-py2.py3-none-any.whl (21 kB)\n",
            "Installing collected packages: utils\n",
            "Successfully installed utils-1.0.1\n"
          ]
        }
      ]
    },
    {
      "cell_type": "code",
      "source": [
        "from utils import Node, StackFrontier, QueueFrontier"
      ],
      "metadata": {
        "colab": {
          "base_uri": "https://localhost:8080/",
          "height": 304
        },
        "id": "XI2sufT947bw",
        "outputId": "e5544e58-03a0-473f-cd6b-5e9a501dc3ab"
      },
      "execution_count": 29,
      "outputs": [
        {
          "output_type": "error",
          "ename": "ImportError",
          "evalue": "ignored",
          "traceback": [
            "\u001b[0;31m---------------------------------------------------------------------------\u001b[0m",
            "\u001b[0;31mImportError\u001b[0m                               Traceback (most recent call last)",
            "\u001b[0;32m<ipython-input-29-7407c41def33>\u001b[0m in \u001b[0;36m<module>\u001b[0;34m\u001b[0m\n\u001b[0;32m----> 1\u001b[0;31m \u001b[0;32mfrom\u001b[0m \u001b[0mutils\u001b[0m \u001b[0;32mimport\u001b[0m \u001b[0mNode\u001b[0m\u001b[0;34m,\u001b[0m \u001b[0mStackFrontier\u001b[0m\u001b[0;34m,\u001b[0m \u001b[0mQueueFrontier\u001b[0m\u001b[0;34m\u001b[0m\u001b[0;34m\u001b[0m\u001b[0m\n\u001b[0m",
            "\u001b[0;31mImportError\u001b[0m: cannot import name 'Node' from 'utils' (/usr/local/lib/python3.8/dist-packages/utils/__init__.py)",
            "",
            "\u001b[0;31m---------------------------------------------------------------------------\u001b[0;32m\nNOTE: If your import is failing due to a missing package, you can\nmanually install dependencies using either !pip or !apt.\n\nTo view examples of installing some common dependencies, click the\n\"Open Examples\" button below.\n\u001b[0;31m---------------------------------------------------------------------------\u001b[0m\n"
          ],
          "errorDetails": {
            "actions": [
              {
                "action": "open_url",
                "actionText": "Open Examples",
                "url": "/notebooks/snippets/importing_libraries.ipynb"
              }
            ]
          }
        }
      ]
    },
    {
      "cell_type": "code",
      "source": [
        "#Return neighbours\n",
        "def neighbors_for_person(person_id):\n",
        "    movie_ids = people[person_id][\"movies\"]\n",
        "    neighbors = set()\n",
        "    for movie_id in movie_ids:\n",
        "        for person_id in movies[movie_id][\"stars\"]:\n",
        "            neighbors.add((movie_id, person_id))\n",
        "    return neighbors\n"
      ],
      "metadata": {
        "id": "GedLSHdB3q6r"
      },
      "execution_count": 9,
      "outputs": []
    },
    {
      "cell_type": "code",
      "source": [
        "#Shortest path DFS\n",
        "def shortest_path_dfs(source, target):\n",
        "  print(\"DFS\")\n",
        "  print(f\"Finding shortest path between {people[source]['name']} ({source}) and {people[target]['name']} ({target})...\")\n",
        "  timer = time.time()\n",
        "\n",
        "  #Start with stack and initial node\n",
        "  stack = StackFrontier()\n",
        "  initial_node = Node(state=source, parent=None, action=None)\n",
        "  stack.add(initial_node)\n",
        "\n",
        "  #Start with empty explored set\n",
        "  explored = set()\n",
        "  number_of_states_explored = 0\n",
        "\n",
        "  while True:\n",
        "   #If stack is empty no solution\n",
        "   if stack.empty():\n",
        "        return None\n",
        "    #Remove a node from the stack\n",
        "   node = stack.remove()\n",
        "   number_of_states_explored += 1\n",
        "\n",
        "   #Add the node to the explored set\n",
        "   explored.add(node.state)\n",
        "\n",
        "   #Expand node, add resulting nodes to the stack if they aren't already in the  or the explored set\n",
        "   for movie_id, person_id in neighbors_for_person(node.state):\n",
        "      if not stack.contains_state(person_id) and person_id not in explored:\n",
        "          child = Node(state=person_id, parent=node, action=movie_id)\n",
        "\n",
        "          #If child node (neighbor) contains goal state, no need to add it to the stack instead return the solution immediately.\n",
        "          if child.state == target:\n",
        "            path = []\n",
        "            node = child\n",
        "\n",
        "            while node.parent is not None:\n",
        "              path.append((node.action, node.state))\n",
        "              node = node.parent\n",
        "            path.reverse()\n",
        "\n",
        "            seconds_taken = time.time() - timer\n",
        "            print(f\"Explored { number_of_states_explored } states in { seconds_taken } seconds\")\n",
        "                    \n",
        "            return path\n",
        "\n",
        "          stack.add(child)\n",
        "    \n",
        "  return None\n",
        "\n",
        "  raise NotImplementedError"
      ],
      "metadata": {
        "id": "I5fru0Sh3vo8"
      },
      "execution_count": 10,
      "outputs": []
    },
    {
      "cell_type": "code",
      "source": [
        "#Shortest path BFS\n",
        "def shortest_path_bfs(source, target):\n",
        "    print(\"BFS\")\n",
        "    print(f\"Finding shortest path between {people[source]['name']} ({source}) and {people[target]['name']} ({target})...\")\n",
        "    timer = time.time()\n",
        "\n",
        "    #Start with queue and initial node\n",
        "    queue = QueueFrontier()\n",
        "    initial_node = Node(state=source, parent=None, action=None)\n",
        "    queue.add(initial_node)\n",
        "\n",
        "    #Start with empty explored set\n",
        "    explored = set()\n",
        "    number_of_states_explored = 0\n",
        "\n",
        "    while True:\n",
        "\n",
        "        #If queue is empty no solution\n",
        "        if queue.empty():\n",
        "            return None\n",
        "\n",
        "        #Remove a node from the queue\n",
        "        node = queue.remove()\n",
        "        number_of_states_explored += 1\n",
        "\n",
        "        #Add the node to the explored set\n",
        "        explored.add(node.state)\n",
        "\n",
        "        #Expand node, add resulting nodes to the queue if the aren't already in the queue or the explored set\n",
        "        for movie_id, person_id in neighbors_for_person(node.state):\n",
        "            if not queue.contains_state(person_id) and person_id not in explored:\n",
        "                child = Node(state=person_id, parent=node, action=movie_id)\n",
        "\n",
        "                #If child node (neighbor) contains goal state, no need to add it to the queue instead return the solution immediately.\n",
        "                if child.state == target:\n",
        "                    path = []\n",
        "                    node = child\n",
        "\n",
        "                    while node.parent is not None:\n",
        "                        path.append((node.action, node.state))\n",
        "                        node = node.parent\n",
        "                    path.reverse()\n",
        "\n",
        "                    seconds_taken = time.time() - timer\n",
        "                    print(f\"Explored { number_of_states_explored } states in { seconds_taken } seconds\")\n",
        "                    \n",
        "                    return path\n",
        "\n",
        "                queue.add(child)"
      ],
      "metadata": {
        "id": "QfrWjq7A306g"
      },
      "execution_count": 11,
      "outputs": []
    },
    {
      "cell_type": "code",
      "source": [
        "#Main function\n",
        "def main():\n",
        "    #Load data\n",
        "    load_data()\n",
        "    print(\"Data loaded.\")\n",
        "\n",
        "    source = person_id_for_name(input(\"Name: \"))\n",
        "    if source is None:\n",
        "        sys.exit(\"Person not found.\")\n",
        "    target = person_id_for_name(input(\"Name: \"))\n",
        "    if target is None:\n",
        "        sys.exit(\"Person not found.\")\n",
        "\n",
        "    pathd = shortest_path_dfs(source, target)\n",
        "    pathb = shortest_path_bfs(source, target)\n",
        "\n",
        "    if pathd is None:\n",
        "        print(\"Not connected.\")\n",
        "    else:\n",
        "        degrees = len(pathd)\n",
        "        print(f\"{degrees} degrees of separation.\")\n",
        "        pathd = [(None, source)] + pathd\n",
        "        for i in range(degrees):\n",
        "            person1 = people[pathd[i][1]][\"name\"]\n",
        "            person2 = people[pathd[i + 1][1]][\"name\"]\n",
        "            movie = movies[pathd[i + 1][0]][\"title\"]\n",
        "            print(f\"{i + 1}: {person1} and {person2} starred in {movie}\")\n",
        "\n",
        "    if pathb is None:\n",
        "        print(\"Not connected.\")\n",
        "    else:\n",
        "        degrees = len(pathb)\n",
        "        print(f\"{degrees} degrees of separation.\")\n",
        "        pathb = [(None, source)] + pathb\n",
        "        for i in range(degrees):\n",
        "            person1 = people[pathb[i][1]][\"name\"]\n",
        "            person2 = people[pathb[i + 1][1]][\"name\"]\n",
        "            movie = movies[pathb[i + 1][0]][\"title\"]\n",
        "            print(f\"{i + 1}: {person1} and {person2} starred in {movie}\")"
      ],
      "metadata": {
        "id": "BihWNpMZ35sB"
      },
      "execution_count": 12,
      "outputs": []
    },
    {
      "cell_type": "code",
      "source": [
        "#Run\n",
        "if __name__ == \"__main__\":\n",
        "    main()"
      ],
      "metadata": {
        "colab": {
          "base_uri": "https://localhost:8080/",
          "height": 432
        },
        "id": "jVon3U_r38fF",
        "outputId": "9d3e611a-16ba-41bd-ed1f-09ab956acd44"
      },
      "execution_count": 17,
      "outputs": [
        {
          "output_type": "stream",
          "name": "stdout",
          "text": [
            "Data loaded.\n",
            "Name: Tom Hanks\n",
            "Name: Bill Paxton\n",
            "DFS\n",
            "Finding shortest path between Tom Hanks (158) and Bill Paxton (200)...\n"
          ]
        },
        {
          "output_type": "error",
          "ename": "NameError",
          "evalue": "ignored",
          "traceback": [
            "\u001b[0;31m---------------------------------------------------------------------------\u001b[0m",
            "\u001b[0;31mNameError\u001b[0m                                 Traceback (most recent call last)",
            "\u001b[0;32m<ipython-input-17-4a7715ca6bbc>\u001b[0m in \u001b[0;36m<module>\u001b[0;34m\u001b[0m\n\u001b[1;32m      1\u001b[0m \u001b[0;31m#Run\u001b[0m\u001b[0;34m\u001b[0m\u001b[0;34m\u001b[0m\u001b[0;34m\u001b[0m\u001b[0m\n\u001b[1;32m      2\u001b[0m \u001b[0;32mif\u001b[0m \u001b[0m__name__\u001b[0m \u001b[0;34m==\u001b[0m \u001b[0;34m\"__main__\"\u001b[0m\u001b[0;34m:\u001b[0m\u001b[0;34m\u001b[0m\u001b[0;34m\u001b[0m\u001b[0m\n\u001b[0;32m----> 3\u001b[0;31m     \u001b[0mmain\u001b[0m\u001b[0;34m(\u001b[0m\u001b[0;34m)\u001b[0m\u001b[0;34m\u001b[0m\u001b[0;34m\u001b[0m\u001b[0m\n\u001b[0m",
            "\u001b[0;32m<ipython-input-12-97f638c0a9b2>\u001b[0m in \u001b[0;36mmain\u001b[0;34m()\u001b[0m\n\u001b[1;32m     12\u001b[0m         \u001b[0msys\u001b[0m\u001b[0;34m.\u001b[0m\u001b[0mexit\u001b[0m\u001b[0;34m(\u001b[0m\u001b[0;34m\"Person not found.\"\u001b[0m\u001b[0;34m)\u001b[0m\u001b[0;34m\u001b[0m\u001b[0;34m\u001b[0m\u001b[0m\n\u001b[1;32m     13\u001b[0m \u001b[0;34m\u001b[0m\u001b[0m\n\u001b[0;32m---> 14\u001b[0;31m     \u001b[0mpathd\u001b[0m \u001b[0;34m=\u001b[0m \u001b[0mshortest_path_dfs\u001b[0m\u001b[0;34m(\u001b[0m\u001b[0msource\u001b[0m\u001b[0;34m,\u001b[0m \u001b[0mtarget\u001b[0m\u001b[0;34m)\u001b[0m\u001b[0;34m\u001b[0m\u001b[0;34m\u001b[0m\u001b[0m\n\u001b[0m\u001b[1;32m     15\u001b[0m     \u001b[0mpathb\u001b[0m \u001b[0;34m=\u001b[0m \u001b[0mshortest_path_bfs\u001b[0m\u001b[0;34m(\u001b[0m\u001b[0msource\u001b[0m\u001b[0;34m,\u001b[0m \u001b[0mtarget\u001b[0m\u001b[0;34m)\u001b[0m\u001b[0;34m\u001b[0m\u001b[0;34m\u001b[0m\u001b[0m\n\u001b[1;32m     16\u001b[0m \u001b[0;34m\u001b[0m\u001b[0m\n",
            "\u001b[0;32m<ipython-input-10-668c0a661823>\u001b[0m in \u001b[0;36mshortest_path_dfs\u001b[0;34m(source, target)\u001b[0m\n\u001b[1;32m      6\u001b[0m \u001b[0;34m\u001b[0m\u001b[0m\n\u001b[1;32m      7\u001b[0m   \u001b[0;31m#Start with stack and initial node\u001b[0m\u001b[0;34m\u001b[0m\u001b[0;34m\u001b[0m\u001b[0;34m\u001b[0m\u001b[0m\n\u001b[0;32m----> 8\u001b[0;31m   \u001b[0mstack\u001b[0m \u001b[0;34m=\u001b[0m \u001b[0mStackFrontier\u001b[0m\u001b[0;34m(\u001b[0m\u001b[0;34m)\u001b[0m\u001b[0;34m\u001b[0m\u001b[0;34m\u001b[0m\u001b[0m\n\u001b[0m\u001b[1;32m      9\u001b[0m   \u001b[0minitial_node\u001b[0m \u001b[0;34m=\u001b[0m \u001b[0mNode\u001b[0m\u001b[0;34m(\u001b[0m\u001b[0mstate\u001b[0m\u001b[0;34m=\u001b[0m\u001b[0msource\u001b[0m\u001b[0;34m,\u001b[0m \u001b[0mparent\u001b[0m\u001b[0;34m=\u001b[0m\u001b[0;32mNone\u001b[0m\u001b[0;34m,\u001b[0m \u001b[0maction\u001b[0m\u001b[0;34m=\u001b[0m\u001b[0;32mNone\u001b[0m\u001b[0;34m)\u001b[0m\u001b[0;34m\u001b[0m\u001b[0;34m\u001b[0m\u001b[0m\n\u001b[1;32m     10\u001b[0m   \u001b[0mstack\u001b[0m\u001b[0;34m.\u001b[0m\u001b[0madd\u001b[0m\u001b[0;34m(\u001b[0m\u001b[0minitial_node\u001b[0m\u001b[0;34m)\u001b[0m\u001b[0;34m\u001b[0m\u001b[0;34m\u001b[0m\u001b[0m\n",
            "\u001b[0;31mNameError\u001b[0m: name 'StackFrontier' is not defined"
          ]
        }
      ]
    }
  ]
}