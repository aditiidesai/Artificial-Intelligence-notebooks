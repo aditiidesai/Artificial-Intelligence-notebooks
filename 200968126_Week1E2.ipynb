{
  "nbformat": 4,
  "nbformat_minor": 0,
  "metadata": {
    "colab": {
      "provenance": []
    },
    "kernelspec": {
      "name": "python3",
      "display_name": "Python 3"
    },
    "language_info": {
      "name": "python"
    }
  },
  "cells": [
    {
      "cell_type": "markdown",
      "source": [
        "**AI Week 1: Exercise 2**\n",
        "\n",
        "\n",
        "---\n",
        "\n",
        "\n",
        "\n",
        "Aditi Desai\n",
        "\n",
        "200968126"
      ],
      "metadata": {
        "id": "wyBr_aLJUXyp"
      }
    },
    {
      "cell_type": "markdown",
      "source": [
        "MetaData:"
      ],
      "metadata": {
        "id": "yMxY4GyMXaZP"
      }
    },
    {
      "cell_type": "markdown",
      "source": [
        "The original dataset for \"ECG5000\" is a 20-hour long ECG downloaded from Physionet. 5,000 heartbeats were randomly selected. The patient has severe congestive heart failure and the class values were obtained by automated annotation\n",
        "\n",
        "Train Size 500\t\n",
        "Test Size\t4500 \n",
        "Length\t140 \n",
        "Number of Classes 5\t\n",
        "Number of Dimensions 1\t\n",
        "Type ECG"
      ],
      "metadata": {
        "id": "-XSFyzmxXc2g"
      }
    },
    {
      "cell_type": "code",
      "execution_count": 1,
      "metadata": {
        "id": "tnpchwjIPL-E"
      },
      "outputs": [],
      "source": [
        "import matplotlib.pyplot as plt\n",
        "import numpy as np\n",
        "import pandas as pd\n",
        "import tensorflow as tf\n",
        "from sklearn.metrics import accuracy_score,precision_score,recall_score\n",
        "from sklearn.model_selection import train_test_split\n",
        "from tensorflow.keras import layers,losses\n",
        "from tensorflow.keras.datasets import fashion_mnist\n",
        "from tensorflow.keras.models import Model"
      ]
    },
    {
      "cell_type": "code",
      "source": [
        "dataframe=pd.read_csv('ecg.csv',header=None)\n",
        "raw_data=dataframe.values\n",
        "dataframe.head()"
      ],
      "metadata": {
        "colab": {
          "base_uri": "https://localhost:8080/",
          "height": 299
        },
        "id": "K2xEM1W3PfwS",
        "outputId": "9d69fe3d-a281-4d1e-e9e3-11941ffaed7c"
      },
      "execution_count": 4,
      "outputs": [
        {
          "output_type": "execute_result",
          "data": {
            "text/plain": [
              "        0         1         2         3         4         5         6    \\\n",
              "0 -0.112522 -2.827204 -3.773897 -4.349751 -4.376041 -3.474986 -2.181408   \n",
              "1 -1.100878 -3.996840 -4.285843 -4.506579 -4.022377 -3.234368 -1.566126   \n",
              "2 -0.567088 -2.593450 -3.874230 -4.584095 -4.187449 -3.151462 -1.742940   \n",
              "3  0.490473 -1.914407 -3.616364 -4.318823 -4.268016 -3.881110 -2.993280   \n",
              "4  0.800232 -0.874252 -2.384761 -3.973292 -4.338224 -3.802422 -2.534510   \n",
              "\n",
              "        7         8         9    ...       131       132       133       134  \\\n",
              "0 -1.818286 -1.250522 -0.477492  ...  0.792168  0.933541  0.796958  0.578621   \n",
              "1 -0.992258 -0.754680  0.042321  ...  0.538356  0.656881  0.787490  0.724046   \n",
              "2 -1.490659 -1.183580 -0.394229  ...  0.886073  0.531452  0.311377 -0.021919   \n",
              "3 -1.671131 -1.333884 -0.965629  ...  0.350816  0.499111  0.600345  0.842069   \n",
              "4 -1.783423 -1.594450 -0.753199  ...  1.148884  0.958434  1.059025  1.371682   \n",
              "\n",
              "        135       136       137       138       139  140  \n",
              "0  0.257740  0.228077  0.123431  0.925286  0.193137  1.0  \n",
              "1  0.555784  0.476333  0.773820  1.119621 -1.436250  1.0  \n",
              "2 -0.713683 -0.532197  0.321097  0.904227 -0.421797  1.0  \n",
              "3  0.952074  0.990133  1.086798  1.403011 -0.383564  1.0  \n",
              "4  1.277392  0.960304  0.971020  1.614392  1.421456  1.0  \n",
              "\n",
              "[5 rows x 141 columns]"
            ],
            "text/html": [
              "\n",
              "  <div id=\"df-efdbd383-85cc-44f9-a603-ac0777e6ee13\">\n",
              "    <div class=\"colab-df-container\">\n",
              "      <div>\n",
              "<style scoped>\n",
              "    .dataframe tbody tr th:only-of-type {\n",
              "        vertical-align: middle;\n",
              "    }\n",
              "\n",
              "    .dataframe tbody tr th {\n",
              "        vertical-align: top;\n",
              "    }\n",
              "\n",
              "    .dataframe thead th {\n",
              "        text-align: right;\n",
              "    }\n",
              "</style>\n",
              "<table border=\"1\" class=\"dataframe\">\n",
              "  <thead>\n",
              "    <tr style=\"text-align: right;\">\n",
              "      <th></th>\n",
              "      <th>0</th>\n",
              "      <th>1</th>\n",
              "      <th>2</th>\n",
              "      <th>3</th>\n",
              "      <th>4</th>\n",
              "      <th>5</th>\n",
              "      <th>6</th>\n",
              "      <th>7</th>\n",
              "      <th>8</th>\n",
              "      <th>9</th>\n",
              "      <th>...</th>\n",
              "      <th>131</th>\n",
              "      <th>132</th>\n",
              "      <th>133</th>\n",
              "      <th>134</th>\n",
              "      <th>135</th>\n",
              "      <th>136</th>\n",
              "      <th>137</th>\n",
              "      <th>138</th>\n",
              "      <th>139</th>\n",
              "      <th>140</th>\n",
              "    </tr>\n",
              "  </thead>\n",
              "  <tbody>\n",
              "    <tr>\n",
              "      <th>0</th>\n",
              "      <td>-0.112522</td>\n",
              "      <td>-2.827204</td>\n",
              "      <td>-3.773897</td>\n",
              "      <td>-4.349751</td>\n",
              "      <td>-4.376041</td>\n",
              "      <td>-3.474986</td>\n",
              "      <td>-2.181408</td>\n",
              "      <td>-1.818286</td>\n",
              "      <td>-1.250522</td>\n",
              "      <td>-0.477492</td>\n",
              "      <td>...</td>\n",
              "      <td>0.792168</td>\n",
              "      <td>0.933541</td>\n",
              "      <td>0.796958</td>\n",
              "      <td>0.578621</td>\n",
              "      <td>0.257740</td>\n",
              "      <td>0.228077</td>\n",
              "      <td>0.123431</td>\n",
              "      <td>0.925286</td>\n",
              "      <td>0.193137</td>\n",
              "      <td>1.0</td>\n",
              "    </tr>\n",
              "    <tr>\n",
              "      <th>1</th>\n",
              "      <td>-1.100878</td>\n",
              "      <td>-3.996840</td>\n",
              "      <td>-4.285843</td>\n",
              "      <td>-4.506579</td>\n",
              "      <td>-4.022377</td>\n",
              "      <td>-3.234368</td>\n",
              "      <td>-1.566126</td>\n",
              "      <td>-0.992258</td>\n",
              "      <td>-0.754680</td>\n",
              "      <td>0.042321</td>\n",
              "      <td>...</td>\n",
              "      <td>0.538356</td>\n",
              "      <td>0.656881</td>\n",
              "      <td>0.787490</td>\n",
              "      <td>0.724046</td>\n",
              "      <td>0.555784</td>\n",
              "      <td>0.476333</td>\n",
              "      <td>0.773820</td>\n",
              "      <td>1.119621</td>\n",
              "      <td>-1.436250</td>\n",
              "      <td>1.0</td>\n",
              "    </tr>\n",
              "    <tr>\n",
              "      <th>2</th>\n",
              "      <td>-0.567088</td>\n",
              "      <td>-2.593450</td>\n",
              "      <td>-3.874230</td>\n",
              "      <td>-4.584095</td>\n",
              "      <td>-4.187449</td>\n",
              "      <td>-3.151462</td>\n",
              "      <td>-1.742940</td>\n",
              "      <td>-1.490659</td>\n",
              "      <td>-1.183580</td>\n",
              "      <td>-0.394229</td>\n",
              "      <td>...</td>\n",
              "      <td>0.886073</td>\n",
              "      <td>0.531452</td>\n",
              "      <td>0.311377</td>\n",
              "      <td>-0.021919</td>\n",
              "      <td>-0.713683</td>\n",
              "      <td>-0.532197</td>\n",
              "      <td>0.321097</td>\n",
              "      <td>0.904227</td>\n",
              "      <td>-0.421797</td>\n",
              "      <td>1.0</td>\n",
              "    </tr>\n",
              "    <tr>\n",
              "      <th>3</th>\n",
              "      <td>0.490473</td>\n",
              "      <td>-1.914407</td>\n",
              "      <td>-3.616364</td>\n",
              "      <td>-4.318823</td>\n",
              "      <td>-4.268016</td>\n",
              "      <td>-3.881110</td>\n",
              "      <td>-2.993280</td>\n",
              "      <td>-1.671131</td>\n",
              "      <td>-1.333884</td>\n",
              "      <td>-0.965629</td>\n",
              "      <td>...</td>\n",
              "      <td>0.350816</td>\n",
              "      <td>0.499111</td>\n",
              "      <td>0.600345</td>\n",
              "      <td>0.842069</td>\n",
              "      <td>0.952074</td>\n",
              "      <td>0.990133</td>\n",
              "      <td>1.086798</td>\n",
              "      <td>1.403011</td>\n",
              "      <td>-0.383564</td>\n",
              "      <td>1.0</td>\n",
              "    </tr>\n",
              "    <tr>\n",
              "      <th>4</th>\n",
              "      <td>0.800232</td>\n",
              "      <td>-0.874252</td>\n",
              "      <td>-2.384761</td>\n",
              "      <td>-3.973292</td>\n",
              "      <td>-4.338224</td>\n",
              "      <td>-3.802422</td>\n",
              "      <td>-2.534510</td>\n",
              "      <td>-1.783423</td>\n",
              "      <td>-1.594450</td>\n",
              "      <td>-0.753199</td>\n",
              "      <td>...</td>\n",
              "      <td>1.148884</td>\n",
              "      <td>0.958434</td>\n",
              "      <td>1.059025</td>\n",
              "      <td>1.371682</td>\n",
              "      <td>1.277392</td>\n",
              "      <td>0.960304</td>\n",
              "      <td>0.971020</td>\n",
              "      <td>1.614392</td>\n",
              "      <td>1.421456</td>\n",
              "      <td>1.0</td>\n",
              "    </tr>\n",
              "  </tbody>\n",
              "</table>\n",
              "<p>5 rows × 141 columns</p>\n",
              "</div>\n",
              "      <button class=\"colab-df-convert\" onclick=\"convertToInteractive('df-efdbd383-85cc-44f9-a603-ac0777e6ee13')\"\n",
              "              title=\"Convert this dataframe to an interactive table.\"\n",
              "              style=\"display:none;\">\n",
              "        \n",
              "  <svg xmlns=\"http://www.w3.org/2000/svg\" height=\"24px\"viewBox=\"0 0 24 24\"\n",
              "       width=\"24px\">\n",
              "    <path d=\"M0 0h24v24H0V0z\" fill=\"none\"/>\n",
              "    <path d=\"M18.56 5.44l.94 2.06.94-2.06 2.06-.94-2.06-.94-.94-2.06-.94 2.06-2.06.94zm-11 1L8.5 8.5l.94-2.06 2.06-.94-2.06-.94L8.5 2.5l-.94 2.06-2.06.94zm10 10l.94 2.06.94-2.06 2.06-.94-2.06-.94-.94-2.06-.94 2.06-2.06.94z\"/><path d=\"M17.41 7.96l-1.37-1.37c-.4-.4-.92-.59-1.43-.59-.52 0-1.04.2-1.43.59L10.3 9.45l-7.72 7.72c-.78.78-.78 2.05 0 2.83L4 21.41c.39.39.9.59 1.41.59.51 0 1.02-.2 1.41-.59l7.78-7.78 2.81-2.81c.8-.78.8-2.07 0-2.86zM5.41 20L4 18.59l7.72-7.72 1.47 1.35L5.41 20z\"/>\n",
              "  </svg>\n",
              "      </button>\n",
              "      \n",
              "  <style>\n",
              "    .colab-df-container {\n",
              "      display:flex;\n",
              "      flex-wrap:wrap;\n",
              "      gap: 12px;\n",
              "    }\n",
              "\n",
              "    .colab-df-convert {\n",
              "      background-color: #E8F0FE;\n",
              "      border: none;\n",
              "      border-radius: 50%;\n",
              "      cursor: pointer;\n",
              "      display: none;\n",
              "      fill: #1967D2;\n",
              "      height: 32px;\n",
              "      padding: 0 0 0 0;\n",
              "      width: 32px;\n",
              "    }\n",
              "\n",
              "    .colab-df-convert:hover {\n",
              "      background-color: #E2EBFA;\n",
              "      box-shadow: 0px 1px 2px rgba(60, 64, 67, 0.3), 0px 1px 3px 1px rgba(60, 64, 67, 0.15);\n",
              "      fill: #174EA6;\n",
              "    }\n",
              "\n",
              "    [theme=dark] .colab-df-convert {\n",
              "      background-color: #3B4455;\n",
              "      fill: #D2E3FC;\n",
              "    }\n",
              "\n",
              "    [theme=dark] .colab-df-convert:hover {\n",
              "      background-color: #434B5C;\n",
              "      box-shadow: 0px 1px 3px 1px rgba(0, 0, 0, 0.15);\n",
              "      filter: drop-shadow(0px 1px 2px rgba(0, 0, 0, 0.3));\n",
              "      fill: #FFFFFF;\n",
              "    }\n",
              "  </style>\n",
              "\n",
              "      <script>\n",
              "        const buttonEl =\n",
              "          document.querySelector('#df-efdbd383-85cc-44f9-a603-ac0777e6ee13 button.colab-df-convert');\n",
              "        buttonEl.style.display =\n",
              "          google.colab.kernel.accessAllowed ? 'block' : 'none';\n",
              "\n",
              "        async function convertToInteractive(key) {\n",
              "          const element = document.querySelector('#df-efdbd383-85cc-44f9-a603-ac0777e6ee13');\n",
              "          const dataTable =\n",
              "            await google.colab.kernel.invokeFunction('convertToInteractive',\n",
              "                                                     [key], {});\n",
              "          if (!dataTable) return;\n",
              "\n",
              "          const docLinkHtml = 'Like what you see? Visit the ' +\n",
              "            '<a target=\"_blank\" href=https://colab.research.google.com/notebooks/data_table.ipynb>data table notebook</a>'\n",
              "            + ' to learn more about interactive tables.';\n",
              "          element.innerHTML = '';\n",
              "          dataTable['output_type'] = 'display_data';\n",
              "          await google.colab.output.renderOutput(dataTable, element);\n",
              "          const docLink = document.createElement('div');\n",
              "          docLink.innerHTML = docLinkHtml;\n",
              "          element.appendChild(docLink);\n",
              "        }\n",
              "      </script>\n",
              "    </div>\n",
              "  </div>\n",
              "  "
            ]
          },
          "metadata": {},
          "execution_count": 4
        }
      ]
    },
    {
      "cell_type": "code",
      "source": [
        "labels=raw_data[:,-1]\n",
        "data=raw_data[:,0:-1]\n",
        "train_data,test_data,train_labels,test_labels=train_test_split(data,labels,test_size=0.2,random_state=21)"
      ],
      "metadata": {
        "id": "3og-J42DS8Ex"
      },
      "execution_count": 5,
      "outputs": []
    },
    {
      "cell_type": "code",
      "source": [
        "min_val=tf.reduce_min(train_data)\n",
        "max_val=tf.reduce_max(train_data)\n",
        "train_data=(train_data-min_val)/(max_val-min_val)\n",
        "test_data=(test_data-min_val)/(max_val-min_val)\n",
        "train_data=tf.cast(train_data,tf.float32)\n",
        "test_data=tf.cast(test_data,tf.float32)\n",
        "test_data.dtype"
      ],
      "metadata": {
        "colab": {
          "base_uri": "https://localhost:8080/"
        },
        "id": "7pCWuQbPTAgI",
        "outputId": "05352c6d-1056-41b6-a60f-ebabb45a9790"
      },
      "execution_count": 6,
      "outputs": [
        {
          "output_type": "execute_result",
          "data": {
            "text/plain": [
              "tf.float32"
            ]
          },
          "metadata": {},
          "execution_count": 6
        }
      ]
    },
    {
      "cell_type": "markdown",
      "source": [
        "train the autoencoder using only the normal rhythms, which are labeled in this dataset as 1. Separate the normal rhythms from the abnormal rhythms."
      ],
      "metadata": {
        "id": "l_XzrV5BlfuX"
      }
    },
    {
      "cell_type": "code",
      "source": [
        "trian_labels=train_labels.astype(bool)\n",
        "test_labels=test_labels.astype(bool)\n",
        "\n",
        "normal_train_data = train_data[train_labels==True]\n",
        "normal_test_data = test_data[test_labels==True]\n",
        "\n",
        "anomalous_train_data = train_data[train_labels==False]\n",
        "anomalous_test_data = test_data[test_labels==False]\n",
        "normal_test_data"
      ],
      "metadata": {
        "colab": {
          "base_uri": "https://localhost:8080/"
        },
        "id": "UxhR1_gATH00",
        "outputId": "488aa0f3-71e9-4605-dead-f366cbac6182"
      },
      "execution_count": 7,
      "outputs": [
        {
          "output_type": "execute_result",
          "data": {
            "text/plain": [
              "<tf.Tensor: shape=(560, 140), dtype=float32, numpy=\n",
              "array([[0.48035768, 0.28877792, 0.19828546, ..., 0.45463306, 0.5246125 ,\n",
              "        0.3713729 ],\n",
              "       [0.45354807, 0.2557325 , 0.15979648, ..., 0.4801337 , 0.5284734 ,\n",
              "        0.49527124],\n",
              "       [0.4521779 , 0.25685105, 0.12592098, ..., 0.55448556, 0.5861353 ,\n",
              "        0.4754273 ],\n",
              "       ...,\n",
              "       [0.48304972, 0.36122933, 0.27729514, ..., 0.32799056, 0.3158066 ,\n",
              "        0.26930442],\n",
              "       [0.4090865 , 0.27907097, 0.22604261, ..., 0.39099607, 0.45987615,\n",
              "        0.42140076],\n",
              "       [0.42648116, 0.17669384, 0.14546008, ..., 0.4733389 , 0.55036914,\n",
              "        0.37805188]], dtype=float32)>"
            ]
          },
          "metadata": {},
          "execution_count": 7
        }
      ]
    },
    {
      "cell_type": "markdown",
      "source": [
        "Plot and observe a normal ECG vs an anomalous ECG."
      ],
      "metadata": {
        "id": "REapN_r0W7af"
      }
    },
    {
      "cell_type": "code",
      "source": [
        "plt.grid(linestyle=\":\",color=\"b\")\n",
        "plt.plot(np.arange(140),normal_train_data[0])\n",
        "plt.title(\"A Normal ECG\")\n",
        "plt.show()"
      ],
      "metadata": {
        "colab": {
          "base_uri": "https://localhost:8080/",
          "height": 281
        },
        "id": "TQa131zATOQC",
        "outputId": "b43ceac6-7e21-4edb-a748-3a7da0f5c192"
      },
      "execution_count": 8,
      "outputs": [
        {
          "output_type": "display_data",
          "data": {
            "text/plain": [
              "<Figure size 432x288 with 1 Axes>"
            ],
            "image/png": "[encoded data removed]"
          },
          "metadata": {
            "needs_background": "light"
          }
        }
      ]
    },
    {
      "cell_type": "code",
      "source": [
        "plt.grid(linestyle=\":\",color=\"b\")\n",
        "plt.plot(np.arange(140),anomalous_train_data[0])\n",
        "plt.title(\"An Anomalous ECG\")\n",
        "plt.show()"
      ],
      "metadata": {
        "colab": {
          "base_uri": "https://localhost:8080/",
          "height": 281
        },
        "id": "JDMawO9vTSXN",
        "outputId": "0e6c9a09-31a6-46e8-c85a-3f54c1dd3eb4"
      },
      "execution_count": 9,
      "outputs": [
        {
          "output_type": "display_data",
          "data": {
            "text/plain": [
              "<Figure size 432x288 with 1 Axes>"
            ],
            "image/png": "[encoded data removed]"
          },
          "metadata": {
            "needs_background": "light"
          }
        }
      ]
    },
    {
      "cell_type": "markdown",
      "source": [
        "The autoencoder is trained using only the normal ECGs, but is evaluated using the full test set."
      ],
      "metadata": {
        "id": "YFiTeyGBXEY3"
      }
    },
    {
      "cell_type": "code",
      "source": [
        "class AnomalyDetector(Model):\n",
        "    def __init__(self):\n",
        "        \n",
        "        super(AnomalyDetector,self).__init__()\n",
        "        self.encoder=tf.keras.Sequential([layers.Dense(32,activation=\"relu\"),layers.Dense(16,activation=\"relu\"),layers.Dense(8,activation=\"relu\")])\n",
        "         \n",
        "        self.decoder=tf.keras.Sequential([\n",
        "          layers.Dense(16, activation=\"relu\"),\n",
        "          layers.Dense(32, activation=\"relu\"),\n",
        "          layers.Dense(140, activation=\"sigmoid\")])\n",
        "    def call(self,x):\n",
        "        encoded=self.encoder(x)\n",
        "        decoded=self.decoder(x)\n",
        "        return decoded\n",
        "autoencoder=AnomalyDetector()\n",
        "\n",
        "autoencoder.compile(optimizer='adam',loss='mae')"
      ],
      "metadata": {
        "id": "Gh3AfcKpTYLF"
      },
      "execution_count": 10,
      "outputs": []
    },
    {
      "cell_type": "markdown",
      "source": [
        "autoencoder is trained using only the normal ECGs, but is evaluated using the full test set."
      ],
      "metadata": {
        "id": "6gHDdRRPlZBK"
      }
    },
    {
      "cell_type": "code",
      "source": [
        "history=autoencoder.fit(normal_train_data,normal_train_data,epochs=20,batch_size=512,\n",
        "                       validation_data=(test_data,test_data),shuffle=True)"
      ],
      "metadata": {
        "colab": {
          "base_uri": "https://localhost:8080/"
        },
        "id": "vSsKCcp-TicA",
        "outputId": "105c0b50-76b4-4e3f-a165-7fc51bd94687"
      },
      "execution_count": 11,
      "outputs": [
        {
          "output_type": "stream",
          "name": "stdout",
          "text": [
            "Epoch 1/20\n"
          ]
        },
        {
          "output_type": "stream",
          "name": "stderr",
          "text": [
            "WARNING:tensorflow:Gradients do not exist for variables ['dense/kernel:0', 'dense/bias:0', 'dense_1/kernel:0', 'dense_1/bias:0', 'dense_2/kernel:0', 'dense_2/bias:0'] when minimizing the loss. If you're using `model.compile()`, did you forget to provide a `loss`argument?\n",
            "WARNING:tensorflow:Gradients do not exist for variables ['dense/kernel:0', 'dense/bias:0', 'dense_1/kernel:0', 'dense_1/bias:0', 'dense_2/kernel:0', 'dense_2/bias:0'] when minimizing the loss. If you're using `model.compile()`, did you forget to provide a `loss`argument?\n"
          ]
        },
        {
          "output_type": "stream",
          "name": "stdout",
          "text": [
            "5/5 [==============================] - 1s 32ms/step - loss: 0.0735 - val_loss: 0.0643\n",
            "Epoch 2/20\n",
            "5/5 [==============================] - 0s 7ms/step - loss: 0.0621 - val_loss: 0.0567\n",
            "Epoch 3/20\n",
            "5/5 [==============================] - 0s 7ms/step - loss: 0.0561 - val_loss: 0.0529\n",
            "Epoch 4/20\n",
            "5/5 [==============================] - 0s 6ms/step - loss: 0.0528 - val_loss: 0.0506\n",
            "Epoch 5/20\n",
            "5/5 [==============================] - 0s 7ms/step - loss: 0.0500 - val_loss: 0.0490\n",
            "Epoch 6/20\n",
            "5/5 [==============================] - 0s 6ms/step - loss: 0.0472 - val_loss: 0.0474\n",
            "Epoch 7/20\n",
            "5/5 [==============================] - 0s 8ms/step - loss: 0.0442 - val_loss: 0.0459\n",
            "Epoch 8/20\n",
            "5/5 [==============================] - 0s 6ms/step - loss: 0.0415 - val_loss: 0.0450\n",
            "Epoch 9/20\n",
            "5/5 [==============================] - 0s 6ms/step - loss: 0.0391 - val_loss: 0.0437\n",
            "Epoch 10/20\n",
            "5/5 [==============================] - 0s 6ms/step - loss: 0.0368 - val_loss: 0.0420\n",
            "Epoch 11/20\n",
            "5/5 [==============================] - 0s 7ms/step - loss: 0.0346 - val_loss: 0.0408\n",
            "Epoch 12/20\n",
            "5/5 [==============================] - 0s 6ms/step - loss: 0.0327 - val_loss: 0.0398\n",
            "Epoch 13/20\n",
            "5/5 [==============================] - 0s 7ms/step - loss: 0.0308 - val_loss: 0.0390\n",
            "Epoch 14/20\n",
            "5/5 [==============================] - 0s 7ms/step - loss: 0.0292 - val_loss: 0.0382\n",
            "Epoch 15/20\n",
            "5/5 [==============================] - 0s 6ms/step - loss: 0.0277 - val_loss: 0.0374\n",
            "Epoch 16/20\n",
            "5/5 [==============================] - 0s 7ms/step - loss: 0.0266 - val_loss: 0.0368\n",
            "Epoch 17/20\n",
            "5/5 [==============================] - 0s 8ms/step - loss: 0.0257 - val_loss: 0.0363\n",
            "Epoch 18/20\n",
            "5/5 [==============================] - 0s 8ms/step - loss: 0.0250 - val_loss: 0.0358\n",
            "Epoch 19/20\n",
            "5/5 [==============================] - 0s 7ms/step - loss: 0.0244 - val_loss: 0.0353\n",
            "Epoch 20/20\n",
            "5/5 [==============================] - 0s 7ms/step - loss: 0.0239 - val_loss: 0.0349\n"
          ]
        }
      ]
    },
    {
      "cell_type": "code",
      "source": [
        "plt.plot(history.history[\"loss\"],label=\"Training Loss\")\n",
        "plt.plot(history.history[\"val_loss\"],label=\"Validation Loss\")\n",
        "plt.legend()"
      ],
      "metadata": {
        "colab": {
          "base_uri": "https://localhost:8080/",
          "height": 282
        },
        "id": "c72wAlV5To7r",
        "outputId": "c764c434-49a5-465d-aa75-80506f0ec893"
      },
      "execution_count": 12,
      "outputs": [
        {
          "output_type": "execute_result",
          "data": {
            "text/plain": [
              "<matplotlib.legend.Legend at 0x7ff48764b9a0>"
            ]
          },
          "metadata": {},
          "execution_count": 12
        },
        {
          "output_type": "display_data",
          "data": {
            "text/plain": [
              "<Figure size 432x288 with 1 Axes>"
            ],
            "image/png": "[encoded data removed]"
          },
          "metadata": {
            "needs_background": "light"
          }
        }
      ]
    },
    {
      "cell_type": "code",
      "source": [
        "encoded_imgs=autoencoder.encoder(normal_test_data).numpy()\n",
        "decoded_imgs=autoencoder.decoder(normal_test_data).numpy()\n",
        "plt.plot(normal_test_data[0],'b')\n",
        "plt.plot(decoded_imgs[0],'r')\n",
        "plt.fill_between(np.arange(140),decoded_imgs[0],normal_test_data[0],color='lightcoral')\n",
        "plt.legend(labels=[\"Input\",\"Reconstruction\",\"Error\"])\n",
        "plt.show()\n",
        "encoded_imgs"
      ],
      "metadata": {
        "colab": {
          "base_uri": "https://localhost:8080/",
          "height": 491
        },
        "id": "956n98YKTwxs",
        "outputId": "a1c3d7ef-76a9-45f2-bf5f-a7ea8e32f69d"
      },
      "execution_count": 13,
      "outputs": [
        {
          "output_type": "display_data",
          "data": {
            "text/plain": [
              "<Figure size 432x288 with 1 Axes>"
            ],
            "image/png": "[encoded data removed]"
          },
          "metadata": {
            "needs_background": "light"
          }
        },
        {
          "output_type": "execute_result",
          "data": {
            "text/plain": [
              "array([[0.        , 0.7787665 , 0.21544257, ..., 0.        , 0.13859625,\n",
              "        0.        ],\n",
              "       [0.        , 0.78448415, 0.23012148, ..., 0.        , 0.18001126,\n",
              "        0.01983834],\n",
              "       [0.        , 0.8057363 , 0.2526167 , ..., 0.        , 0.21696913,\n",
              "        0.04817721],\n",
              "       ...,\n",
              "       [0.        , 0.7443187 , 0.17722692, ..., 0.        , 0.08584061,\n",
              "        0.        ],\n",
              "       [0.        , 0.7470839 , 0.1963464 , ..., 0.        , 0.1505465 ,\n",
              "        0.01605988],\n",
              "       [0.        , 0.78164697, 0.22213425, ..., 0.        , 0.18094307,\n",
              "        0.029817  ]], dtype=float32)"
            ]
          },
          "metadata": {},
          "execution_count": 13
        }
      ]
    },
    {
      "cell_type": "code",
      "source": [
        "encoded_imgs=autoencoder.encoder(anomalous_test_data).numpy()\n",
        "decoded_imgs=autoencoder.decoder(anomalous_test_data).numpy()"
      ],
      "metadata": {
        "id": "ujH1agCyT1qY"
      },
      "execution_count": 14,
      "outputs": []
    },
    {
      "cell_type": "code",
      "source": [
        "plt.plot(anomalous_test_data[0],'b')\n",
        "plt.plot(decoded_imgs[0],'r')\n",
        "plt.fill_between(np.arange(140),decoded_imgs[0],anomalous_test_data[0],color='lightcoral')\n",
        "plt.legend(labels=[\"Input\",\"Reconstruction\",\"Error\"])\n",
        "plt.show()"
      ],
      "metadata": {
        "colab": {
          "base_uri": "https://localhost:8080/",
          "height": 266
        },
        "id": "tqj1yN0bT4hm",
        "outputId": "f691635d-4b7c-4f35-ee2d-b461f0fe2b02"
      },
      "execution_count": 15,
      "outputs": [
        {
          "output_type": "display_data",
          "data": {
            "text/plain": [
              "<Figure size 432x288 with 1 Axes>"
            ],
            "image/png": "[encoded data removed]"
          },
          "metadata": {
            "needs_background": "light"
          }
        }
      ]
    },
    {
      "cell_type": "markdown",
      "source": [
        "Detect anomalies by calculating whether the reconstruction loss is greater than a fixed threshold. In this tutorial, you will calculate the mean average error for normal examples from the training set, then classify future examples as anomalous if the reconstruction error is higher than one standard deviation from the training set.\n",
        "\n",
        "Plot the reconstruction error on normal ECGs from the training set"
      ],
      "metadata": {
        "id": "vN4xR0AilOKF"
      }
    },
    {
      "cell_type": "code",
      "source": [
        "reconstructions=autoencoder.predict(normal_train_data)\n",
        "reconstructions"
      ],
      "metadata": {
        "colab": {
          "base_uri": "https://localhost:8080/"
        },
        "id": "m-eit38cT7f6",
        "outputId": "070af78b-9d14-4f11-e3db-82b8b4c7aa7a"
      },
      "execution_count": 16,
      "outputs": [
        {
          "output_type": "stream",
          "name": "stdout",
          "text": [
            "74/74 [==============================] - 0s 847us/step\n"
          ]
        },
        {
          "output_type": "execute_result",
          "data": {
            "text/plain": [
              "array([[0.430847  , 0.32580233, 0.31323484, ..., 0.51101506, 0.5135873 ,\n",
              "        0.4190341 ],\n",
              "       [0.43189052, 0.33042732, 0.32175606, ..., 0.5121996 , 0.5146126 ,\n",
              "        0.42128113],\n",
              "       [0.4301712 , 0.3247276 , 0.3133568 , ..., 0.5114797 , 0.5149792 ,\n",
              "        0.4169603 ],\n",
              "       ...,\n",
              "       [0.43120012, 0.32642728, 0.31941578, ..., 0.51305515, 0.5144396 ,\n",
              "        0.4165613 ],\n",
              "       [0.42992705, 0.32392037, 0.31117237, ..., 0.51062274, 0.5141796 ,\n",
              "        0.41857383],\n",
              "       [0.43165523, 0.32833982, 0.32110474, ..., 0.51201385, 0.51412046,\n",
              "        0.41836786]], dtype=float32)"
            ]
          },
          "metadata": {},
          "execution_count": 16
        }
      ]
    },
    {
      "cell_type": "code",
      "source": [
        "train_loss=tf.keras.losses.mae(reconstructions,normal_train_data).numpy()\n",
        "train_loss"
      ],
      "metadata": {
        "colab": {
          "base_uri": "https://localhost:8080/"
        },
        "id": "n6TXl1vMUAGn",
        "outputId": "a2e47da3-22a1-4071-fd77-d4f0b8bbb937"
      },
      "execution_count": 17,
      "outputs": [
        {
          "output_type": "execute_result",
          "data": {
            "text/plain": [
              "array([0.03010686, 0.01544035, 0.02244667, ..., 0.0147954 , 0.0254887 ,\n",
              "       0.01949233], dtype=float32)"
            ]
          },
          "metadata": {},
          "execution_count": 17
        }
      ]
    },
    {
      "cell_type": "code",
      "source": [
        "plt.hist(train_loss,bins=50,density=True)\n",
        "plt.xlabel(\"Train Loss\")\n",
        "plt.ylabel(\"No of Examples\")\n",
        "plt.show()"
      ],
      "metadata": {
        "colab": {
          "base_uri": "https://localhost:8080/",
          "height": 279
        },
        "id": "hap6bq8NUDDg",
        "outputId": "9ed23842-c85f-48fa-9bc0-f7b33252f7a6"
      },
      "execution_count": 18,
      "outputs": [
        {
          "output_type": "display_data",
          "data": {
            "text/plain": [
              "<Figure size 432x288 with 1 Axes>"
            ],
            "image/png": "[encoded data removed]"
          },
          "metadata": {
            "needs_background": "light"
          }
        }
      ]
    },
    {
      "cell_type": "markdown",
      "source": [
        "choose a threshold value that is one standard deviations above the mean."
      ],
      "metadata": {
        "id": "JkmgsdMkktEF"
      }
    },
    {
      "cell_type": "code",
      "source": [
        "threshold=np.mean(train_loss)+np.std(train_loss)\n",
        "print(\"Threshold\",threshold)"
      ],
      "metadata": {
        "colab": {
          "base_uri": "https://localhost:8080/"
        },
        "id": "2druw68qUFy5",
        "outputId": "7d9a43f2-7338-4e87-dafa-dc0992e1f94f"
      },
      "execution_count": 19,
      "outputs": [
        {
          "output_type": "stream",
          "name": "stdout",
          "text": [
            "Threshold 0.03514561\n"
          ]
        }
      ]
    },
    {
      "cell_type": "code",
      "source": [
        "reconstructions=autoencoder.predict(anomalous_test_data)\n",
        "reconstructions"
      ],
      "metadata": {
        "colab": {
          "base_uri": "https://localhost:8080/"
        },
        "id": "Yy-ST5KhUId2",
        "outputId": "3a4b5fc3-c4c1-4dfe-cc23-8376867a67dd"
      },
      "execution_count": 20,
      "outputs": [
        {
          "output_type": "stream",
          "name": "stdout",
          "text": [
            "14/14 [==============================] - 0s 921us/step\n"
          ]
        },
        {
          "output_type": "execute_result",
          "data": {
            "text/plain": [
              "array([[0.43357268, 0.32915723, 0.32700688, ..., 0.5119895 , 0.51036143,\n",
              "        0.41725692],\n",
              "       [0.43476796, 0.3277702 , 0.3340513 , ..., 0.51281226, 0.5055789 ,\n",
              "        0.41970572],\n",
              "       [0.43457153, 0.32710084, 0.33470806, ..., 0.5112259 , 0.50437015,\n",
              "        0.42150193],\n",
              "       ...,\n",
              "       [0.4359787 , 0.33063558, 0.33996722, ..., 0.5125359 , 0.5044554 ,\n",
              "        0.42206332],\n",
              "       [0.4345725 , 0.32574254, 0.33372596, ..., 0.51176995, 0.5034403 ,\n",
              "        0.42292392],\n",
              "       [0.42793077, 0.31905687, 0.30582923, ..., 0.5113718 , 0.5164243 ,\n",
              "        0.41375273]], dtype=float32)"
            ]
          },
          "metadata": {},
          "execution_count": 20
        }
      ]
    },
    {
      "cell_type": "code",
      "source": [
        "test_loss=tf.keras.losses.mae(reconstructions,anomalous_test_data).numpy()\n",
        "plt.hist(test_loss,bins=50,density=True)\n",
        "plt.xlabel(\"Test Loss\")\n",
        "plt.ylabel(\"No of Examples\")\n",
        "plt.show()"
      ],
      "metadata": {
        "colab": {
          "base_uri": "https://localhost:8080/",
          "height": 279
        },
        "id": "vNc8PfzPULbG",
        "outputId": "1b684253-49c9-4360-d328-d0a4dba5b1b6"
      },
      "execution_count": 21,
      "outputs": [
        {
          "output_type": "display_data",
          "data": {
            "text/plain": [
              "<Figure size 432x288 with 1 Axes>"
            ],
            "image/png": "[encoded data removed]"
          },
          "metadata": {
            "needs_background": "light"
          }
        }
      ]
    },
    {
      "cell_type": "markdown",
      "source": [
        "Classify an ECG as anomalous if the reconstruction error is greater than one standard deviation from the normal training examples. \n",
        "\n",
        "=Classify an ECG as an anomaly if the reconstruction error is greater than the threshold."
      ],
      "metadata": {
        "id": "FR-o06EKk4-y"
      }
    },
    {
      "cell_type": "code",
      "source": [
        "def predict(model,data,threshold):\n",
        "    reconstructions=model(data)\n",
        "    loss=tf.keras.losses.mae(reconstructions,data)\n",
        "    return tf.math.less(loss,threshold)\n",
        "def print_stats(prediction,labels):\n",
        "    print(\"Accuracy={}\".format(accuracy_score(labels,preds)))\n",
        "    print(\"Precision={}\".format(precision_score(labels,preds)))\n",
        "    print(\"Recall={}\".format(recall_score(labels,preds)))"
      ],
      "metadata": {
        "id": "0U82jyCrUOPp"
      },
      "execution_count": 22,
      "outputs": []
    },
    {
      "cell_type": "code",
      "source": [
        "preds=predict(autoencoder,test_data,threshold)\n",
        "print_stats(preds,test_labels)"
      ],
      "metadata": {
        "colab": {
          "base_uri": "https://localhost:8080/"
        },
        "id": "sBsDAiS5UR1x",
        "outputId": "4b158053-bcca-44da-9542-5ab957869fb4"
      },
      "execution_count": 23,
      "outputs": [
        {
          "output_type": "stream",
          "name": "stdout",
          "text": [
            "Accuracy=0.945\n",
            "Precision=0.9941291585127201\n",
            "Recall=0.9071428571428571\n"
          ]
        }
      ]
    }
  ]
}